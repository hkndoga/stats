{
 "cells": [
  {
   "cell_type": "code",
   "execution_count": 53,
   "id": "0139ae3a",
   "metadata": {},
   "outputs": [
    {
     "name": "stdout",
     "output_type": "stream",
     "text": [
      "The least square line equation for the given data set is y = 37.25 x + ( -269.75 )\n"
     ]
    }
   ],
   "source": [
    "#For a bivariate numerical data set, calculates the equation of least square line!\n",
    "\n",
    "list_x = [11, 15, 19, 23, 27]\n",
    "list_y = [150, 270, 450, 580, 740]\n",
    "\n",
    "def AVE(x):\n",
    "    return sum(x)/len(x)\n",
    "\n",
    "def sum_of_products(x,y):\n",
    "    sum=0\n",
    "    for i in range(len(x)):\n",
    "        sum = sum + x[i]*y[i]\n",
    "        i=i+1\n",
    "    return sum\n",
    "\n",
    "def sum_of_squares(x):\n",
    "    sum=0\n",
    "    for i in range(len(x)):\n",
    "        sum = sum + (x[i]**2)\n",
    "        i=i+1\n",
    "    return sum    \n",
    "\n",
    "def slope_lsl(x,y):\n",
    "    return (sum_of_products(x,y)- (sum(x)*sum(y)/len(x))) / (sum_of_squares(x)-(sum(x)**2/len(x)))\n",
    "\n",
    "def y_intercept(x,y):\n",
    "    return AVE(y)- slope_lsl(x,y)*AVE(x)\n",
    "\n",
    "slope = slope_lsl(list_x,list_y)\n",
    "y_intercept = y_intercept(list_x, list_y)\n",
    "\n",
    "print(\"The least square line equation for the given data set is y =\", slope,\"x + (\",y_intercept,\")\")"
   ]
  },
  {
   "cell_type": "code",
   "execution_count": null,
   "id": "46a617e9",
   "metadata": {},
   "outputs": [],
   "source": []
  }
 ],
 "metadata": {
  "kernelspec": {
   "display_name": "Python 3 (ipykernel)",
   "language": "python",
   "name": "python3"
  },
  "language_info": {
   "codemirror_mode": {
    "name": "ipython",
    "version": 3
   },
   "file_extension": ".py",
   "mimetype": "text/x-python",
   "name": "python",
   "nbconvert_exporter": "python",
   "pygments_lexer": "ipython3",
   "version": "3.9.7"
  }
 },
 "nbformat": 4,
 "nbformat_minor": 5
}
